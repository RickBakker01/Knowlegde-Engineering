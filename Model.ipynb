{
 "cells": [
  {
   "cell_type": "code",
   "execution_count": 1,
   "metadata": {
    "collapsed": true
   },
   "outputs": [],
   "source": [
    "# Rick Bakker & Amber Stoete, 2018\n",
    "#\n",
    "# This Notebook is used for the Knowledge Engineering course at the VU in Amsterdam.\n",
    "# It is used for the 'monitoring' method of the commonKADS methodology. \n",
    "# The system monitors all the medical devices in a surgery room and grades the surgery based on the input from the devices.\n",
    "# It takes as input some fictional data and grades the fluctuations. \n",
    "# To run the system, run every cell, inlcuding this one. Start with the first, than the second, etc. \n",
    "# Running the cell is done by Shift + Enter.\n",
    "\n",
    "# Import requisite libraries\n",
    "## Imported for displaying grade\n",
    "import sys\n",
    "## Imported for the timer\n",
    "import time\n",
    "\n",
    "# Initial data\n",
    "## Monitored value dictionaries\n",
    "OR0 = {'heart_rate':75,'blood':140}\n",
    "OR1 = {'heart_rate':80,'blood':144}\n",
    "OR2 = {'heart_rate':90,'blood':145}\n",
    "OR3 = {'heart_rate':90,'blood':144}\n",
    "OR4 = {'heart_rate':90,'blood':140}\n",
    "OR5 = {'heart_rate':95,'blood':138}\n",
    "OR6 = {'heart_rate':75,'blood':138}\n",
    "OR7 = {'heart_rate':75,'blood':140}\n",
    "OR8 = {'heart_rate':80,'blood':141}\n",
    "OR9 = {'heart_rate':80,'blood':140}\n",
    "\n",
    "## List of the monitored value dictionaries\n",
    "ORS = [OR0, OR1, OR2, OR3, OR4, OR5, OR6, OR7, OR8, OR9]\n",
    "\n",
    "## Integer length for determining the last run of the system\n",
    "length = 0\n",
    "\n",
    "## System model and norm model\n",
    "System_model = ['heart_rate' , 'blood']\n",
    "Norms = {'heart_rate':range(70,91), 'blood':range(100,149)}\n",
    "\n",
    "## Historical data\n",
    "HD = {'heart_rate': 0, 'blood':0}\n",
    "\n",
    "## Initial grade\n",
    "Grade = 10"
   ]
  },
  {
   "cell_type": "code",
   "execution_count": 2,
   "metadata": {
    "collapsed": true
   },
   "outputs": [],
   "source": [
    "def F_receive():\n",
    "    \"\"\"This function is used for collecting data. It takes every ORx as input, one every second.\"\"\"\n",
    "    for OR in ORS:\n",
    "        # Start F_select with a OR from the ORS list\n",
    "        F_select(OR)\n",
    "        \n",
    "        # Wait one second, before starting F_select with the next OR\n",
    "        time.sleep(1)"
   ]
  },
  {
   "cell_type": "code",
   "execution_count": 3,
   "metadata": {
    "collapsed": true
   },
   "outputs": [],
   "source": [
    "def F_select(OR):\n",
    "    \"\"\"Select all the parameters from the system model if they occur in the monitored values and store them in list z.\"\"\"\n",
    "    # Make a list with every parameter from 'OR'\n",
    "    z =  [x for x in System_model if x in OR.keys()] \n",
    "    \n",
    "    # Start F_specify with list 'z' and the 'OR' from the previous function\n",
    "    F_specify(z, OR)"
   ]
  },
  {
   "cell_type": "code",
   "execution_count": 4,
   "metadata": {
    "collapsed": true
   },
   "outputs": [],
   "source": [
    "def F_specify(z, OR):\n",
    "    \"\"\"Select all the norms for every item in list z.\"\"\"\n",
    "    # Make a list of norms. Take every item in the list 'z' and select the right parameter from the norms model\n",
    "    norms_list = [Norms[x] for x in z] \n",
    "    \n",
    "    # Start the F_compare function\n",
    "    F_compare(norms_list, OR)"
   ]
  },
  {
   "cell_type": "code",
   "execution_count": 5,
   "metadata": {
    "collapsed": true
   },
   "outputs": [],
   "source": [
    "def F_compare(norms, OR):\n",
    "    \"\"\"This function takes every item in the list with norms and compares it with the actual monitored data \n",
    "    and calculates the difference.\"\"\"\n",
    "    # Difference dictionary\n",
    "    difference = {}\n",
    "    \n",
    "\n",
    "    # Do the if statement as many times as the list 'norms' long is\n",
    "    for i in range(len(norms)):\n",
    "        \n",
    "        # The is statement checks whether the value of the 'OR' is in the range of the norms\n",
    "        if list(OR.values())[i] not in norms[i]:\n",
    "            # When true, it calculates the difference between the norm and the received value\n",
    "            difference[list(OR.keys())[i]] = (min([(list(OR.values())[i] - (min(norms[i]))), (abs(list(OR.values())[i] - (max(norms[i]))))]))\n",
    "        else:\n",
    "            # When the received value is in the norms, the difference is 0:\n",
    "            difference[list(OR.keys())[i]] = 0\n",
    "            \n",
    "    # Start the F_classify with the difference and the 'OR'\n",
    "    F_classify(difference, OR)    "
   ]
  },
  {
   "cell_type": "code",
   "execution_count": 6,
   "metadata": {
    "collapsed": true
   },
   "outputs": [],
   "source": [
    "def F_classify(d,OR):\n",
    "    \"\"\"The final function classifies whether the difference is a minor or a major disturbance and changes the grade if needed.\"\"\"\n",
    "    # Make 'HD', 'Grade', and 'length' global, so they can be accessed within a function\n",
    "    global HD\n",
    "    global Grade\n",
    "    global length\n",
    "    \n",
    "    # Initial weight\n",
    "    Weight = 0\n",
    "    # List for difference between 'OR' and 'HD'\n",
    "    new_difference = {}\n",
    "    \n",
    "    # Do the if statement as many times as the list 'd', difference, long is\n",
    "    for i in range(len(d)):\n",
    "        \n",
    "        # If there is no historical data, the sum of all the values in this dictionary will be 0\n",
    "        if sum(list(HD.values())) == 0:\n",
    "            # If the sum is 0, the difference between the historical data and the received data will be 0\n",
    "            new_difference[list(d.keys())[i]] = abs(int(list((d.values()))[i]))\n",
    "        else:    \n",
    "            # If the sum is unequal to 0, this statement below takes the highest difference between the received value and\n",
    "            # the historical data\n",
    "            new_difference[list(d.keys())[i]] = abs(int(list((OR.values()))[i]) - int(list((HD.values()))[i]))   \n",
    "            \n",
    "        # If the historical data is 0 and the difference between the historical data and the received value is smaller than 6, \n",
    "        # the system does nothing\n",
    "        if list(d.values())[i] == 0 and list(new_difference.values())[i] < 6 : \n",
    "            pass\n",
    "        \n",
    "        # Otherwise the system will check whether the disturbance is minor or major\n",
    "        else: \n",
    "            # The disturbance is minor if the difference between the 'OR' and 'norms' and \n",
    "            # between 'OR' an d 'HD' is smaller than 6\n",
    "            \n",
    "            if list(d.values())[i] < 6 and list(new_difference.values())[i] < 6 :\n",
    "                # Weight for a minor disturbance\n",
    "                Weight = 0.2\n",
    "                \n",
    "            # If one of the two is larger than 6, the disturbance is major\n",
    "            else:\n",
    "                # Weight for a major disturbance\n",
    "                Weight = 1\n",
    "\n",
    "            # This statement lowers the grade based on the nature of the disturbance. \n",
    "            # In this case, a disturbance of the heart rate is more important than a disturbance in blood pressure.\n",
    "            if list(d.keys())[i] == 'heart_rate':\n",
    "                # If the nature of the disturbance is the heart rate:\n",
    "                Grade -= 0.75*Weight\n",
    "                \n",
    "            # With the use of an 'elif' statement, the entire statement can be expanded. \n",
    "            # This has to be done when new types of parameters are introduced in the initial data. \n",
    "            # The rest of the code will work, but this has to be expanded\n",
    "            \n",
    "            elif list(d.keys())[i] == 'blood':\n",
    "                # If it is the blood pressure:\n",
    "                Grade -= 0.25*Weight\n",
    "\n",
    "    # Set the historical data to the received values of 'OR'            \n",
    "    HD = OR  \n",
    "    \n",
    "    # The grade cannot be lower than 1. If it is, set it back to 1\n",
    "    if Grade < 1:\n",
    "        Grade = 1\n",
    "    \n",
    "    # This bit is for displaying the grade\n",
    "    ## The length is a integer that is increased by 1, every time this function runs\n",
    "    length += 1\n",
    "    \n",
    "    ## When the length is not equal to the length of 'ORS', the grade is displayed as 'Grade: '\n",
    "    if length != len(ORS):\n",
    "        ## Print the grade in a nice format\n",
    "        sys.stdout.write(\"\\rGrade: {}\".format(str(round(Grade,2))+ '   '))\n",
    "        ## Remove the previous printed grade\n",
    "        sys.stdout.flush()\n",
    "    \n",
    "    ## When the length is equal to the length of 'ORS', the grade is displayed as 'Final grade: '\n",
    "    ## This happens when the last 'OR' is passed through and the final grade is calculated\n",
    "    else:\n",
    "        ## Print the grade in a nice format\n",
    "        sys.stdout.write(\"\\rFinal grade: {}\".format(str(round(Grade,2))+ '   '))\n",
    "        ## Remove the previous printed grade\n",
    "        sys.stdout.flush()"
   ]
  },
  {
   "cell_type": "code",
   "execution_count": 7,
   "metadata": {},
   "outputs": [
    {
     "name": "stdout",
     "output_type": "stream",
     "text": [
      "Final grade: 8.35   "
     ]
    }
   ],
   "source": [
    "# Start the model. The grade is displayed below. \n",
    "# ! Do not start the function a second time without running all the cells above a second time !\n",
    "F_receive()"
   ]
  },
  {
   "cell_type": "code",
   "execution_count": null,
   "metadata": {
    "collapsed": true
   },
   "outputs": [],
   "source": []
  }
 ],
 "metadata": {
  "kernelspec": {
   "display_name": "Python 3",
   "language": "python",
   "name": "python3"
  },
  "language_info": {
   "codemirror_mode": {
    "name": "ipython",
    "version": 3
   },
   "file_extension": ".py",
   "mimetype": "text/x-python",
   "name": "python",
   "nbconvert_exporter": "python",
   "pygments_lexer": "ipython3",
   "version": "3.7.0"
  }
 },
 "nbformat": 4,
 "nbformat_minor": 2
}
