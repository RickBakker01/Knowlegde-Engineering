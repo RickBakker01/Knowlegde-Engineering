{
 "cells": [
  {
   "cell_type": "code",
   "execution_count": 7,
   "metadata": {
    "collapsed": true
   },
   "outputs": [],
   "source": [
    "# Import requisite libraries\n",
    "import sys\n",
    "import time\n",
    "\n",
    "# Initial data\n",
    "## Monitored value dictionaries\n",
    "OR0 = {'heart_rate':75,'blood':140}\n",
    "OR1 = {'heart_rate':80,'blood':140}\n",
    "OR2 = {'heart_rate':90,'blood':140}\n",
    "OR3 = {'heart_rate':90,'blood':140}\n",
    "OR4 = {'heart_rate':90,'blood':140}\n",
    "OR5 = {'heart_rate':95,'blood':140}\n",
    "OR6 = {'heart_rate':75,'blood':140}\n",
    "OR7 = {'heart_rate':75,'blood':140}\n",
    "OR8 = {'heart_rate':80,'blood':140}\n",
    "OR9 = {'heart_rate':80,'blood':140}\n",
    "\n",
    "## List of the monitored value dictionaries\n",
    "ORS = [OR0, OR1, OR2, OR3, OR4, OR5, OR6, OR7, OR8, OR9]\n",
    "\n",
    "## System model and norm model\n",
    "System_model = ['heart_rate' , 'blood']\n",
    "Norms = {'heart_rate':range(70,91), 'blood':range(100,149)}\n",
    "\n",
    "## Historical data\n",
    "HD = {'heart_rate': 0, 'blood':0}\n",
    "\n",
    "## Initial grade\n",
    "Grade = 10"
   ]
  },
  {
   "cell_type": "code",
   "execution_count": 8,
   "metadata": {
    "collapsed": true
   },
   "outputs": [],
   "source": [
    "def F_receive():\n",
    "    \"\"\"This function is used for collecting data. It takes every ORx as input, one every second.\"\"\"\n",
    "    for OR in ORS:\n",
    "        F_select(OR)\n",
    "        time.sleep(1)"
   ]
  },
  {
   "cell_type": "code",
   "execution_count": 9,
   "metadata": {
    "collapsed": true
   },
   "outputs": [],
   "source": [
    "def F_select(OR):\n",
    "    \"\"\"Select all the parameters from the system model if they occur in the monitored values and store them in list z.\"\"\"\n",
    "    z =  [x for x in System_model if x in OR.keys()] \n",
    "    F_specify(z, OR)"
   ]
  },
  {
   "cell_type": "code",
   "execution_count": 10,
   "metadata": {
    "collapsed": true
   },
   "outputs": [],
   "source": [
    "def F_specify(z, OR):\n",
    "    \"\"\"Select all the norms for every item in list z.\"\"\"\n",
    "    norms_list = [Norms[x] for x in z] \n",
    "    F_compare(norms_list, OR)"
   ]
  },
  {
   "cell_type": "code",
   "execution_count": 11,
   "metadata": {
    "collapsed": true
   },
   "outputs": [],
   "source": [
    "def F_compare(z, OR):\n",
    "    \"\"\"This function takes every item in the list with norms and compares it with the actual monitored data \n",
    "    and calculates the difference.\"\"\"\n",
    "    # Difference dictionary\n",
    "    difference = {}\n",
    "\n",
    "    for i in range(len(z)):\n",
    "        if list(OR.values())[i] not in z[i]:\n",
    "            difference[list(OR.keys())[i]] = (min([(list(OR.values())[i] - (min(z[i]))), (abs(list(OR.values())[i] - (max(z[i]))))]))\n",
    "        else:\n",
    "            difference[list(OR.keys())[i]] = 0\n",
    "    F_classify(difference, OR)    "
   ]
  },
  {
   "cell_type": "code",
   "execution_count": 12,
   "metadata": {
    "collapsed": true
   },
   "outputs": [],
   "source": [
    "def F_classify(d,OR):\n",
    "    \"\"\"The final function classifies whether the difference is a minor or a major disturbance and changes the grade if needed.\"\"\"\n",
    "    global HD\n",
    "    global Grade\n",
    "    \n",
    "    Weight = 0\n",
    "    new_difference = {}\n",
    "    \n",
    "    for i in range(len(d)):\n",
    "        if sum(list(HD.values())) == 0:\n",
    "            new_difference[list(d.keys())[i]] = abs(int(list((d.values()))[i]))     \n",
    "        else:    \n",
    "            new_difference[list(d.keys())[i]] = abs(int(list((OR.values()))[i]) - int(list((HD.values()))[i]))  \n",
    "            \n",
    "        if list(d.values())[i] == 0 and list(new_difference.values())[i] < 6 : \n",
    "            pass\n",
    "        else: \n",
    "            if list(d.values())[i] < 6 and list(new_difference.values())[i] < 6 :\n",
    "#                     Minor\n",
    "                Weight = 0.2\n",
    "            else:\n",
    "#                     Major\n",
    "                Weight = 1\n",
    "\n",
    "            if list(d.keys())[i] == 'heart_rate':\n",
    "                Grade -= 0.75*Weight\n",
    "            elif list(d.keys())[i] == 'blood':\n",
    "                Grade -= 0.25*Weight\n",
    "\n",
    "    HD = OR  \n",
    "    if Grade < 1:\n",
    "        Grade = 1\n",
    "        \n",
    "    sys.stdout.write(\"\\rGrade: {}\".format(str(round(Grade,2))+ '   '))\n",
    "    sys.stdout.flush()"
   ]
  },
  {
   "cell_type": "code",
   "execution_count": 13,
   "metadata": {},
   "outputs": [
    {
     "name": "stdout",
     "output_type": "stream",
     "text": [
      "Grade: 8.35   "
     ]
    }
   ],
   "source": [
    "F_receive()"
   ]
  }
 ],
 "metadata": {
  "kernelspec": {
   "display_name": "Python 3",
   "language": "python",
   "name": "python3"
  },
  "language_info": {
   "codemirror_mode": {
    "name": "ipython",
    "version": 3
   },
   "file_extension": ".py",
   "mimetype": "text/x-python",
   "name": "python",
   "nbconvert_exporter": "python",
   "pygments_lexer": "ipython3",
   "version": "3.6.3"
  }
 },
 "nbformat": 4,
 "nbformat_minor": 2
}
